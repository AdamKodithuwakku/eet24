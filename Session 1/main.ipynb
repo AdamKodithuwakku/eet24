{
 "cells": [
  {
   "cell_type": "markdown",
   "id": "702de328",
   "metadata": {},
   "source": [
    "### Function Types and Hints"
   ]
  },
  {
   "cell_type": "code",
   "execution_count": 7,
   "id": "64be0964",
   "metadata": {},
   "outputs": [],
   "source": [
    "def hello_world(name : str) -> str:\n",
    "    \"\"\"\n",
    "    Hello world message. \n",
    "    Args:\n",
    "        name (str): User First Name.\n",
    "    Returns:\n",
    "        str: Message\n",
    "    \"\"\"\n",
    "    \n",
    "    ## try -> finally --> else | except\n",
    "\n",
    "    try:\n",
    "        hellotext = \"Hello \"+ name\n",
    "    except:\n",
    "        return \"Invalid Input: name must be string.\"\n",
    "    else:\n",
    "        return hellotext\n",
    "    finally:\n",
    "        return \"Hi!\" \n"
   ]
  },
  {
   "cell_type": "code",
   "execution_count": 8,
   "id": "3b584c55",
   "metadata": {},
   "outputs": [
    {
     "data": {
      "text/plain": [
       "'Hi!'"
      ]
     },
     "execution_count": 8,
     "metadata": {},
     "output_type": "execute_result"
    }
   ],
   "source": [
    "hello_world(\"Bob\") ##Hover"
   ]
  },
  {
   "cell_type": "markdown",
   "id": "d6757f78",
   "metadata": {},
   "source": [
    "### Context Managers -- Needs handel tasks like files and connections without manual input"
   ]
  },
  {
   "cell_type": "code",
   "execution_count": null,
   "id": "80de224f",
   "metadata": {},
   "outputs": [
    {
     "name": "stdout",
     "output_type": "stream",
     "text": [
      "Total: 499999999500000000\n",
      "Calculate Sum 14.2845 seconds\n"
     ]
    }
   ],
   "source": [
    "from contextlib import contextmanager\n",
    "import time\n",
    "\n",
    "@contextmanager\n",
    "def timer(label:str):\n",
    "    start = time.time()\n",
    "\n",
    "    try:\n",
    "        yield\n",
    "    finally:\n",
    "        end = time.time()\n",
    "        print(f\"{label} {end-start:.4f} seconds\")\n",
    "\n",
    "\n",
    "with timer(\"Calculate Sum\"):\n",
    "    total = sum(range(1, 10**9))\n",
    "    print(f\"Total: {total}\")\n",
    "\n",
    "\n",
    "#context managers"
   ]
  },
  {
   "cell_type": "code",
   "execution_count": null,
   "id": "7afe9eeb",
   "metadata": {},
   "outputs": [
    {
     "name": "stdout",
     "output_type": "stream",
     "text": [
      "init method called\n",
      "enter method called\n",
      "with statement block\n",
      "exit method called\n"
     ]
    }
   ],
   "source": [
    "class MyContextManager:\n",
    "    def __init__(self):\n",
    "        print('init method called') #1\n",
    "        \n",
    "    def __enter__(self):\n",
    "        print('enter method called') #2\n",
    "        return self\n",
    "    \n",
    "    def __exit__(self, exc_type, exc_value, exc_traceback):\n",
    "        print('exit method called') #4\n",
    "\n",
    "with MyContextManager() as manager:\n",
    "    print('with statement block') #3"
   ]
  },
  {
   "cell_type": "markdown",
   "id": "3e30cadf",
   "metadata": {},
   "source": [
    "## Iterables Genrators Comprehensions\n",
    "\n",
    "\n",
    "Generators is used if you need a values to be accessed onece.\n",
    "\n",
    "If storing the values are important List Comprehensions used.\n",
    "\n",
    "Generator expression\n",
    "(x*2 for x in range(256))\n",
    "\n",
    "List comprehension\n",
    "[x*2 for x in range(256)]"
   ]
  },
  {
   "cell_type": "code",
   "execution_count": 13,
   "id": "70ad1e45",
   "metadata": {},
   "outputs": [
    {
     "data": {
      "text/plain": [
       "range_iterator"
      ]
     },
     "execution_count": 13,
     "metadata": {},
     "output_type": "execute_result"
    }
   ],
   "source": [
    "type(range(100).__iter__())"
   ]
  },
  {
   "cell_type": "code",
   "execution_count": null,
   "id": "a7d8a876",
   "metadata": {},
   "outputs": [
    {
     "name": "stdout",
     "output_type": "stream",
     "text": [
      "Median: 5.5\n",
      "Moving Median for 0 items 1.0000\n",
      "Moving Median for 1 items 2.0000\n",
      "Moving Median for 2 items 3.0000\n",
      "Moving Median for 3 items 3.0000\n",
      "Moving Median for 4 items 3.0000\n",
      "Moving Median for 5 items 3.5000\n",
      "Moving Median for 6 items 4.0000\n",
      "Moving Median for 7 items 5.5000\n",
      "\n",
      "Moving medians:\n",
      "1\n",
      "2.0\n",
      "3\n",
      "3.0\n",
      "3\n",
      "3.5\n",
      "4\n",
      "5.5\n"
     ]
    }
   ],
   "source": [
    "import statistics\n",
    "\n",
    "data = [1, 3, 3, 4, 7, 8, 8, 9]\n",
    "data.sort()\n",
    "median = statistics.median(data)\n",
    "print(f\"Median: {median}\")\n",
    "\n",
    "\n",
    "#Using Iterators\n",
    "currentsum = 0\n",
    "for i in range(len(data)):\n",
    "    movingmedian = statistics.median(data[:i+1])\n",
    "    print(f\"Moving Median for {i} items {movingmedian:.4f}\")\n",
    "\n",
    "\n",
    "#Using Generators\n",
    "def moving_median(data):\n",
    "    \"\"\"GENERATOR FUNCTION\"\"\"\n",
    "    sorted_data = []\n",
    "    for number in data:\n",
    "        sorted_data.append(number)\n",
    "        sorted_data.sort() \n",
    "\n",
    "        yield statistics.median(sorted_data) # generators\n",
    "\n",
    "moving_median_value = moving_median(data)\n",
    "print(\"\\nMoving medians:\")\n",
    "for median in moving_median_value:\n",
    "    print(median)\n",
    "\n"
   ]
  },
  {
   "cell_type": "code",
   "execution_count": 26,
   "id": "18fe09c5",
   "metadata": {},
   "outputs": [
    {
     "name": "stdout",
     "output_type": "stream",
     "text": [
      "<generator object moving_median at 0x00000171F440F760>\n",
      "1\n",
      "2.0\n",
      "3\n",
      "3.0\n",
      "3\n",
      "3.5\n",
      "4\n",
      "5.5\n",
      "<generator object moving_median at 0x00000171F440F760>\n"
     ]
    }
   ],
   "source": [
    "####### Function override\n",
    "# statics.median = moving_median(data)\n",
    "\n",
    "mymedians = moving_median(data)\n",
    "print(mymedians)\n",
    "\n",
    "for m in mymedians:\n",
    "    print(m)\n",
    "\n",
    "print(mymedians) # nothing\n",
    "for m in mymedians:\n",
    "    print(\"Once Again\", m) #Not called"
   ]
  },
  {
   "cell_type": "markdown",
   "id": "559a606c",
   "metadata": {},
   "source": [
    "# Numpy and Pandas"
   ]
  },
  {
   "cell_type": "code",
   "execution_count": 42,
   "id": "684d61c2",
   "metadata": {},
   "outputs": [
    {
     "name": "stdout",
     "output_type": "stream",
     "text": [
      "[[30, 15, 41], [108, 55, 90], [43, 39, 73]]\n",
      "Manual Matrix Multiplication  0.0005 seconds\n"
     ]
    }
   ],
   "source": [
    "matA = [[1, 2, 3], [6, 9, 2], [4, 1, 5]]\n",
    "matB = [[5, 7, 6], [8, 1, 4], [3, 2, 9]]\n",
    "\n",
    "\n",
    "def matrixmultiplication(mA, mB):\n",
    "\n",
    "    matAns = [[0 for _ in range(len(mB))] for _ in range(len(mA[0]))]\n",
    "    for i in range(len(mA[0])):\n",
    "        for j in range(len(mB)):\n",
    "            indexvalue = 0\n",
    "            for k in range(len(mA)):\n",
    "                indexvalue += mA[i][k]*mB[k][j]\n",
    "\n",
    "            matAns[i][j] = indexvalue\n",
    "    \n",
    "    return matAns\n",
    "\n",
    "with timer(\"Manual Matrix Multiplication \"):\n",
    "    print(matrixmultiplication(matA, matB)) \n",
    "             \n"
   ]
  },
  {
   "cell_type": "code",
   "execution_count": 48,
   "id": "37207645",
   "metadata": {},
   "outputs": [
    {
     "name": "stdout",
     "output_type": "stream",
     "text": [
      "[[ 30  15  41]\n",
      " [108  55  90]\n",
      " [ 43  39  73]]\n",
      "Numpy Matrix Multiplication  0.0002 seconds\n"
     ]
    }
   ],
   "source": [
    "import numpy as np\n",
    "\n",
    "matA = [[1, 2, 3], [6, 9, 2], [4, 1, 5]]\n",
    "matB = [[5, 7, 6], [8, 1, 4], [3, 2, 9]]\n",
    "\n",
    "npmatA = np.array(matA)\n",
    "npmatB = np.array(matB)\n",
    "\n",
    "with timer(\"Numpy Matrix Multiplication \"):\n",
    "    print(np.dot(matA, matB))"
   ]
  },
  {
   "cell_type": "code",
   "execution_count": null,
   "id": "0b14a1e8",
   "metadata": {},
   "outputs": [],
   "source": []
  }
 ],
 "metadata": {
  "kernelspec": {
   "display_name": "Python 3",
   "language": "python",
   "name": "python3"
  },
  "language_info": {
   "codemirror_mode": {
    "name": "ipython",
    "version": 3
   },
   "file_extension": ".py",
   "mimetype": "text/x-python",
   "name": "python",
   "nbconvert_exporter": "python",
   "pygments_lexer": "ipython3",
   "version": "3.13.7"
  }
 },
 "nbformat": 4,
 "nbformat_minor": 5
}
