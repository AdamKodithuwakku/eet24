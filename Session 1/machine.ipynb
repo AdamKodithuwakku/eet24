{
 "cells": [
  {
   "cell_type": "markdown",
   "id": "6e3df84d",
   "metadata": {},
   "source": [
    "# Machine Learning"
   ]
  },
  {
   "cell_type": "code",
   "execution_count": null,
   "id": "b7db811d",
   "metadata": {},
   "outputs": [],
   "source": [
    "Machin"
   ]
  }
 ],
 "metadata": {
  "language_info": {
   "name": "python"
  }
 },
 "nbformat": 4,
 "nbformat_minor": 5
}
