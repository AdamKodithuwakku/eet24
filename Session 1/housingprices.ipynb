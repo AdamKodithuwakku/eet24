{
 "cells": [
  {
   "cell_type": "markdown",
   "id": "6e3df84d",
   "metadata": {},
   "source": [
    "#### Housing Prices"
   ]
  },
  {
   "cell_type": "code",
   "execution_count": 37,
   "id": "47e16cb8",
   "metadata": {},
   "outputs": [],
   "source": [
    "import pandas as pd\n",
    "import tensorflow as tf\n",
    "import numpy as np\n",
    "import matplotlib.pyplot as plt"
   ]
  },
  {
   "cell_type": "code",
   "execution_count": 62,
   "id": "3ed49855",
   "metadata": {},
   "outputs": [
    {
     "name": "stdout",
     "output_type": "stream",
     "text": [
      "        price  area  bedrooms  bathrooms  stories mainroad guestroom basement  \\\n",
      "0    13300000  7420         4          2        3      yes        no       no   \n",
      "1    12250000  8960         4          4        4      yes        no       no   \n",
      "2    12250000  9960         3          2        2      yes        no      yes   \n",
      "3    12215000  7500         4          2        2      yes        no      yes   \n",
      "4    11410000  7420         4          1        2      yes       yes      yes   \n",
      "..        ...   ...       ...        ...      ...      ...       ...      ...   \n",
      "540   1820000  3000         2          1        1      yes        no      yes   \n",
      "541   1767150  2400         3          1        1       no        no       no   \n",
      "542   1750000  3620         2          1        1      yes        no       no   \n",
      "543   1750000  2910         3          1        1       no        no       no   \n",
      "544   1750000  3850         3          1        2      yes        no       no   \n",
      "\n",
      "    hotwaterheating airconditioning  parking prefarea furnishingstatus  \n",
      "0                no             yes        2      yes        furnished  \n",
      "1                no             yes        3       no        furnished  \n",
      "2                no              no        2      yes   semi-furnished  \n",
      "3                no             yes        3      yes        furnished  \n",
      "4                no             yes        2       no        furnished  \n",
      "..              ...             ...      ...      ...              ...  \n",
      "540              no              no        2       no      unfurnished  \n",
      "541              no              no        0       no   semi-furnished  \n",
      "542              no              no        0       no      unfurnished  \n",
      "543              no              no        0       no        furnished  \n",
      "544              no              no        0       no      unfurnished  \n",
      "\n",
      "[545 rows x 13 columns]\n"
     ]
    }
   ],
   "source": [
    "housesdata = pd.read_csv(\"Housing.csv\")\n",
    "print(housesdata)"
   ]
  },
  {
   "cell_type": "code",
   "execution_count": 63,
   "id": "b7db811d",
   "metadata": {},
   "outputs": [],
   "source": [
    "pricesdata = tf.constant(housesdata['price'].values.reshape(-1,1), dtype=tf.float32)\n",
    "\n",
    "area=tf.constant(housesdata['area'].values.reshape(-1,1), dtype=tf.float32)\n",
    "beadrooms=tf.constant(housesdata['bedrooms'].values.reshape(-1,1), dtype=tf.float32)\n",
    "bathrooms=tf.constant(housesdata['bathrooms'].values.reshape(-1,1), dtype=tf.float32)\n",
    "stories=tf.constant(housesdata['stories'].values.reshape(-1,1), dtype=tf.float32)\n",
    "parking=tf.constant(housesdata['parking'].values.reshape(-1,1), dtype=tf.float32)\n",
    "\n",
    "\n",
    "\n",
    "guestroom = housesdata['guestroom'].map({'yes': 2, 'no': 1})\n",
    "guestroom=tf.constant(guestroom.values.reshape(-1,1), dtype=tf.float32)\n",
    "\n",
    "\n",
    "basement = housesdata['basement'].map({'yes': 2, 'no': 1})\n",
    "basement=tf.constant(basement.values.reshape(-1,1), dtype=tf.float32)\n",
    "\n",
    "hotwaterheating = housesdata['hotwaterheating'].map({'yes': 2, 'no': 1})\n",
    "hotwaterheating=tf.constant(hotwaterheating.values.reshape(-1,1), dtype=tf.float32)\n",
    "\n",
    "\n",
    "airconditioning = housesdata['airconditioning'].map({'yes': 2, 'no': 1})\n",
    "airconditioning=tf.constant(airconditioning.values.reshape(-1,1), dtype=tf.float32)\n",
    "\n",
    "prefarea = housesdata['prefarea'].map({'yes': 2, 'no': 1})\n",
    "prefarea=tf.constant(prefarea.values.reshape(-1,1), dtype=tf.float32)\n",
    "\n",
    "furnishingstatus = housesdata['furnishingstatus'].map({'furnished': 3, 'unfurnished': 2, 'semi-furnished': 1})\n",
    "furnishingstatus=tf.constant(furnishingstatus.values.reshape(-1,1), dtype=tf.float32)\n"
   ]
  },
  {
   "cell_type": "code",
   "execution_count": null,
   "id": "df98b58c",
   "metadata": {},
   "outputs": [],
   "source": [
    "print(basement)"
   ]
  },
  {
   "cell_type": "code",
   "execution_count": 40,
   "id": "054daec0",
   "metadata": {},
   "outputs": [],
   "source": [
    "learning_rate = 0.1\n",
    "\n",
    "def loss_fn(y_true, y_pred):\n",
    "  return tf.reduce_mean(tf.square(y_true - y_pred))\n"
   ]
  },
  {
   "cell_type": "code",
   "execution_count": 64,
   "id": "08efc724",
   "metadata": {},
   "outputs": [],
   "source": [
    "def calval(w, k, x):\n",
    "    return w *( x ** k)\n",
    "\n",
    "def housing_model(*values):\n",
    "    sum = 0\n",
    "    for value in values:\n",
    "        sum += calval(*value)\n",
    "    \n",
    "    return sum"
   ]
  },
  {
   "cell_type": "code",
   "execution_count": null,
   "id": "e441a239",
   "metadata": {},
   "outputs": [
    {
     "name": "stdout",
     "output_type": "stream",
     "text": [
      "Epoch   1, Loss: 26213437407232.0000, a: 0.4571, b: 0.6685\n",
      "Epoch   2, Loss: 26212516757504.0000, a: 0.5517, b: 0.7601\n"
     ]
    }
   ],
   "source": [
    "warea = tf.Variable(tf.random.normal(shape=[]), name=\"warea\")\n",
    "karea = tf.Variable(tf.random.normal(shape=[]), name=\"karea\")\n",
    "\n",
    "wbedrooms = tf.Variable(tf.random.normal(shape=[]), name=\"wbedrooms\")\n",
    "kbedrooms = tf.Variable(tf.random.normal(shape=[]), name=\"kbedrooms\")\n",
    "\n",
    "wbathrooms = tf.Variable(tf.random.normal(shape=[]), name=\"wbathrooms\")\n",
    "kbathrooms = tf.Variable(tf.random.normal(shape=[]), name=\"kbathrooms\")\n",
    "\n",
    "wstories = tf.Variable(tf.random.normal(shape=[]), name=\"wstories\")\n",
    "kstories = tf.Variable(tf.random.normal(shape=[]), name=\"kstories\")\n",
    "\n",
    "wparking = tf.Variable(tf.random.normal(shape=[]), name=\"wparking\")\n",
    "kparking = tf.Variable(tf.random.normal(shape=[]), name=\"kparking\")\n",
    "\n",
    "wguestroom = tf.Variable(tf.random.normal(shape=[]), name=\"wguestroom\")\n",
    "kguestroom = tf.Variable(tf.random.normal(shape=[]), name=\"kguestroom\")\n",
    "\n",
    "wbasement = tf.Variable(tf.random.normal(shape=[]), name=\"wbasement\")\n",
    "kbasement = tf.Variable(tf.random.normal(shape=[]), name=\"kbasement\")\n",
    "\n",
    "whotwaterheating = tf.Variable(tf.random.normal(shape=[]), name=\"whotwaterheating\")\n",
    "khotwaterheating = tf.Variable(tf.random.normal(shape=[]), name=\"khotwaterheating\")\n",
    "\n",
    "wairconditioning = tf.Variable(tf.random.normal(shape=[]), name=\"wairconditioning\")\n",
    "kairconditioning = tf.Variable(tf.random.normal(shape=[]), name=\"kairconditioning\")\n",
    "\n",
    "wprefarea = tf.Variable(tf.random.normal(shape=[]), name=\"wprefarea\")\n",
    "kprefarea = tf.Variable(tf.random.normal(shape=[]), name=\"kprefarea\")\n",
    "\n",
    "wfurnishingstatus = tf.Variable(tf.random.normal(shape=[]), name=\"wfurnishingstatus\")\n",
    "kfurnishingstatus = tf.Variable(tf.random.normal(shape=[]), name=\"kfurnishingstatus\")\n",
    "\n",
    "\n",
    "optimizer = tf.keras.optimizers.Adam(learning_rate)\n",
    "\n",
    "for epoch in range(2):\n",
    "    with tf.GradientTape() as tape:\n",
    "        areadata = [warea, karea, area]\n",
    "        bedroomsdata = [wbedrooms, kbedrooms, beadrooms]\n",
    "        bathroomsdata = [wbathrooms, kbathrooms, bathrooms]\n",
    "        storiesdata = [wstories, kstories, stories]\n",
    "        parkingdata = [wparking, kparking, parking]\n",
    "        guestroomdata = [wguestroom, kguestroom, guestroom]\n",
    "        basementdata = [wbasement, kbasement, basement]\n",
    "        hotwaterheatingdata = [whotwaterheating, khotwaterheating, hotwaterheating]\n",
    "        airconditioningdata = [wairconditioning, kairconditioning, airconditioning]\n",
    "        prefareadata = [wprefarea, kprefarea, prefarea]\n",
    "        furnishingstatusdata = [wfurnishingstatus, kfurnishingstatus, furnishingstatus]\n",
    "\n",
    "\n",
    "        y_pred = housing_model(areadata, bedroomsdata, bathroomsdata, \n",
    "                               storiesdata, parkingdata, guestroomdata, basementdata, prefareadata, airconditioningdata, hotwaterheatingdata, furnishingstatusdata)\n",
    "\n",
    "\n",
    "\n",
    "        current_loss = loss_fn(pricesdata, y_pred)\n",
    "\n",
    "    gradients = tape.gradient(current_loss, [warea, karea])\n",
    "\n",
    "    optimizer.apply_gradients(zip(gradients, [warea, karea]))\n",
    "\n",
    "    if (epoch + 1) % 20 != 0:\n",
    "        print(f\"Epoch {epoch+1:3d}, Loss: {current_loss:.4f}, a: {warea.numpy():.4f}, b: {karea.numpy():.4f}\")"
   ]
  },
  {
   "cell_type": "code",
   "execution_count": 43,
   "id": "cf7b4f83",
   "metadata": {},
   "outputs": [
    {
     "name": "stdout",
     "output_type": "stream",
     "text": [
      "nan nan\n"
     ]
    }
   ],
   "source": [
    "print(warea.numpy(), karea.numpy())"
   ]
  }
 ],
 "metadata": {
  "kernelspec": {
   "display_name": "Python 3",
   "language": "python",
   "name": "python3"
  },
  "language_info": {
   "codemirror_mode": {
    "name": "ipython",
    "version": 3
   },
   "file_extension": ".py",
   "mimetype": "text/x-python",
   "name": "python",
   "nbconvert_exporter": "python",
   "pygments_lexer": "ipython3",
   "version": "3.13.7"
  }
 },
 "nbformat": 4,
 "nbformat_minor": 5
}
